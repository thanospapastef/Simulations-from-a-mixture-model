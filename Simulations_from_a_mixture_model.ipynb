{
  "cells": [
    {
      "cell_type": "markdown",
      "metadata": {
        "id": "view-in-github",
        "colab_type": "text"
      },
      "source": [
        "<a href=\"https://colab.research.google.com/github/thanospapastef/Simulations-from-a-mixture-model/blob/main/Simulations_from_a_mixture_model.ipynb\" target=\"_parent\"><img src=\"https://colab.research.google.com/assets/colab-badge.svg\" alt=\"Open In Colab\"/></a>"
      ]
    },
    {
      "cell_type": "code",
      "execution_count": 1,
      "metadata": {
        "id": "cHeXQoL_Mo3t"
      },
      "outputs": [],
      "source": [
        "from scipy.stats import norm\n",
        "import numpy as  np\n",
        "import matplotlib.pyplot as plt\n",
        "import seaborn as sns\n",
        "import warnings\n",
        "import tensorflow.compat.v2 as tf\n",
        "import tensorflow_probability as tfp\n",
        "import pymc3 as pm\n",
        "import arviz as az\n",
        "import time\n",
        "tfd = tfp.distributions"
      ]
    },
    {
      "cell_type": "code",
      "execution_count": 2,
      "metadata": {
        "id": "KV01hWrxzno4"
      },
      "outputs": [],
      "source": [
        "#1st experiment\n",
        "sigma2 = 0.15"
      ]
    },
    {
      "cell_type": "code",
      "execution_count": null,
      "metadata": {
        "id": "1x6U2hncoGD3"
      },
      "outputs": [],
      "source": [
        "#Gibbs Sampler\n",
        "N = 100_000\n",
        "start = time.time()\n",
        "normal1= np.random.normal(-1, np.sqrt(sigma2), int(N/2))\n",
        "normal2 = np.random.normal(1, np.sqrt(sigma2), int(N/2))\n",
        "target = np.concatenate([normal1, normal2])\n",
        "\n",
        "it2 = []\n",
        "for i in range(0, N):\n",
        "  it2.append(i)\n",
        "\n",
        "end = time.time()\n",
        "print(f\"Time elapsed for Gibbs sampler: {end-start} seconds\")\n",
        "\n",
        "#plots\n",
        "plt.subplots(figsize=(20, 5))\n",
        "plt.subplot(1,2,1)\n",
        "sns.distplot(target, hist = False )\n",
        "\n",
        "plt.subplot(1,2,2)\n",
        "plt.plot(it2, target)\n",
        "plt.title('Chain')\n",
        "\n",
        "plt.show()"
      ]
    },
    {
      "cell_type": "code",
      "execution_count": null,
      "metadata": {
        "id": "2l64HvZBa6vh"
      },
      "outputs": [],
      "source": [
        "# Metropolis - Hastings method\n",
        "# Define mixture model\n",
        "N = 100_000\n",
        "\n",
        "weights = np.array([0.5, 0.5])\n",
        "means = np.array([-1, 1])\n",
        "deviations = np.array([np.sqrt(sigma2), np.sqrt(sigma2)])\n",
        "\n",
        "start = time.time()\n",
        "\n",
        "basic_model = pm.Model()\n",
        "\n",
        "with basic_model:\n",
        "  Y_obs = pm.distributions.mixture.NormalMixture('Metropolis - Hastings', w = weights, mu = means, sigma = deviations)\n",
        "\n",
        "with basic_model:\n",
        "    # define sampler\n",
        "    step = pm.Metropolis()\n",
        "\n",
        "    # simulating N samples\n",
        "    trace = pm.sample(draws=N,  return_inferencedata = True, step=step, chains = 1)\n",
        "    \n",
        "end = time.time()\n",
        "print(f\"Time elapsed for Metropolis - Hastings sampler: {end-start} seconds\")"
      ]
    },
    {
      "cell_type": "code",
      "execution_count": null,
      "metadata": {
        "id": "MhoSGmwUmAPh"
      },
      "outputs": [],
      "source": [
        "with basic_model:\n",
        "    az.plot_trace(trace);"
      ]
    },
    {
      "cell_type": "code",
      "execution_count": null,
      "metadata": {
        "id": "Yz-XtJwueBUr"
      },
      "outputs": [],
      "source": [
        "az.ess(trace) #effective_sample_size"
      ]
    },
    {
      "cell_type": "code",
      "execution_count": null,
      "metadata": {
        "id": "VNTGs6aUbW2m"
      },
      "outputs": [],
      "source": [
        "# Hamiltonian Monte Carlo method\n",
        "# Define mixture model\n",
        "N = 100_000\n",
        "\n",
        "weights = np.array([0.5, 0.5])\n",
        "means = np.array([-1, 1])\n",
        "deviations = np.array([np.sqrt(sigma2), np.sqrt(sigma2)])\n",
        "\n",
        "start = time.time()\n",
        "\n",
        "basic_model = pm.Model()\n",
        "\n",
        "with basic_model:\n",
        "  Y_obs = pm.distributions.mixture.NormalMixture('Hamiltonian Monte Carlo', w = weights, mu = means, sigma = deviations)\n",
        "\n",
        "with basic_model:\n",
        "    # define sampler\n",
        "    step = pm.HamiltonianMC()\n",
        "\n",
        "    # simulating N samples\n",
        "    trace = pm.sample(draws=N, return_inferencedata = True, step=step, chains = 1)\n",
        "    \n",
        "end = time.time()\n",
        "print(f\"Time elapsed for Hamiltonian Monte Carlo sampler: {end-start} seconds\")"
      ]
    },
    {
      "cell_type": "code",
      "execution_count": null,
      "metadata": {
        "id": "5fhTH2TvbjF7"
      },
      "outputs": [],
      "source": [
        "import arviz as az\n",
        "with basic_model:\n",
        "    az.plot_trace(trace);"
      ]
    },
    {
      "cell_type": "code",
      "execution_count": null,
      "metadata": {
        "id": "YRRLgO6reXKp"
      },
      "outputs": [],
      "source": [
        "az.ess(trace) #effective_sample_size"
      ]
    },
    {
      "cell_type": "code",
      "execution_count": null,
      "metadata": {
        "id": "bflt7YZNhgNI"
      },
      "outputs": [],
      "source": [
        "#Tempering method\n",
        "dtype = np.float32\n",
        "N = 100_000\n",
        "\n",
        "target = tfd.MixtureSameFamily(\n",
        "    mixture_distribution=tfd.Categorical(\n",
        "        probs=[0.5, 0.5]),\n",
        "    components_distribution=tfd.Normal(\n",
        "      loc=[-1., 1],       # One for each component.\n",
        "      scale=[np.sqrt(sigma2).astype(dtype), np.sqrt(sigma2).astype(dtype)])) \n",
        "\n",
        "#9 Different \"temperatures\"\n",
        "inverse_temperatures = 0.2**tf.range(9, dtype=dtype)\n",
        "\n",
        "def make_kernel_fn(target_log_prob_fn):   \n",
        "   return tfp.mcmc.RandomWalkMetropolis(\n",
        "    target_log_prob_fn, new_state_fn=None,\n",
        "    name=None) \n",
        "\n",
        "start = time.time()\n",
        "\n",
        "#ReplicaExchangeMC == Parallel Tempering\n",
        "remc = tfp.mcmc.ReplicaExchangeMC(\n",
        "    target_log_prob_fn=target.log_prob,\n",
        "    inverse_temperatures=inverse_temperatures,\n",
        "    make_kernel_fn=make_kernel_fn)\n",
        "\n",
        "samples = tfp.mcmc.sample_chain(\n",
        "    num_results=N,\n",
        "    current_state = 4.0,\n",
        "    kernel=remc,\n",
        "    trace_fn=None,\n",
        "    num_burnin_steps=500)\n",
        "\n",
        "#iterations\n",
        "it1 = []\n",
        "for i in range(0, N):\n",
        "  it1.append(i)\n",
        "\n",
        "end = time.time()\n",
        "\n",
        "print(f\"Time elapsed for Tempering sampler: {end-start} seconds\")\n",
        "\n",
        "plt.subplots(figsize=(20, 5))\n",
        "#plots\n",
        "plt.subplot(1,2,1)\n",
        "sns.distplot(samples, hist = False )\n",
        "\n",
        "plt.subplot(1,2,2)\n",
        "plt.plot(it1, samples)\n",
        "plt.title('Chain')\n",
        "  \n",
        "# Packing all the plots and displaying them\n",
        "plt.tight_layout()\n",
        "plt.show()"
      ]
    },
    {
      "cell_type": "code",
      "execution_count": 11,
      "metadata": {
        "id": "kWG3271e2vOt"
      },
      "outputs": [],
      "source": [
        "#2nd experiment\n",
        "sigma2 = 0.2"
      ]
    },
    {
      "cell_type": "code",
      "execution_count": null,
      "metadata": {
        "id": "T4G7W0ey2aMi"
      },
      "outputs": [],
      "source": [
        "#Gibbs Sampler\n",
        "N = 100_000\n",
        "start = time.time()\n",
        "normal1= np.random.normal(-1, np.sqrt(sigma2), int(N/2))\n",
        "normal2 = np.random.normal(1, np.sqrt(sigma2), int(N/2))\n",
        "target = np.concatenate([normal1, normal2])\n",
        "\n",
        "it2 = []\n",
        "for i in range(0, N):\n",
        "  it2.append(i)\n",
        "\n",
        "end = time.time()\n",
        "print(f\"Time elapsed for Gibbs sampler: {end-start} seconds\")\n",
        "\n",
        "#plots\n",
        "plt.subplots(figsize=(20, 5))\n",
        "plt.subplot(1,2,1)\n",
        "sns.distplot(target, hist = False )\n",
        "\n",
        "plt.subplot(1,2,2)\n",
        "plt.plot(it2, target)\n",
        "plt.title('Chain')\n",
        "\n",
        "plt.show()"
      ]
    },
    {
      "cell_type": "code",
      "execution_count": null,
      "metadata": {
        "id": "sDfo0dULCbsx"
      },
      "outputs": [],
      "source": [
        "#Metropolis - Hastings\n",
        "# Define mixture model\n",
        "N = 100_000\n",
        "\n",
        "weights = np.array([0.5, 0.5])\n",
        "means = np.array([-1, 1])\n",
        "deviations = np.array([np.sqrt(sigma2), np.sqrt(sigma2)])\n",
        "\n",
        "start = time.time()\n",
        "\n",
        "basic_model = pm.Model()\n",
        "\n",
        "with basic_model:\n",
        "  Y_obs = pm.distributions.mixture.NormalMixture('Metropolis - Hastings', w = weights, mu = means, sigma = deviations)\n",
        "\n",
        "with basic_model:\n",
        "    # Define sampler\n",
        "    step = pm.Metropolis()\n",
        "\n",
        "    # Simulating N samples\n",
        "    trace = pm.sample(draws=N,  return_inferencedata = True, step=step, chains = 1)\n",
        "    \n",
        "end = time.time()\n",
        "print(f\"Time elapsed for Metropolis - Hastings sampler: {end-start} seconds\")"
      ]
    },
    {
      "cell_type": "code",
      "execution_count": null,
      "metadata": {
        "id": "zB0IZNAaCnWY"
      },
      "outputs": [],
      "source": [
        "import arviz as az\n",
        "with basic_model:\n",
        "    az.plot_trace(trace);"
      ]
    },
    {
      "cell_type": "code",
      "execution_count": null,
      "metadata": {
        "id": "zarp3_Ae5krY"
      },
      "outputs": [],
      "source": [
        "az.ess(trace) #effective_sample_size"
      ]
    },
    {
      "cell_type": "code",
      "execution_count": null,
      "metadata": {
        "id": "O1SlOW-YRJ_U"
      },
      "outputs": [],
      "source": [
        "#Hamiltonian Monte Carlo method\n",
        "# Define mixture model\n",
        "N = 100_000\n",
        "\n",
        "\n",
        "weights = np.array([0.5, 0.5])\n",
        "means = np.array([-1, 1])\n",
        "deviations = np.array([np.sqrt(sigma2), np.sqrt(sigma2)])\n",
        "\n",
        "start = time.time()\n",
        "\n",
        "basic_model = pm.Model()\n",
        "\n",
        "with basic_model:\n",
        "  Y_obs = pm.distributions.mixture.NormalMixture('Hamiltonian Monte Carlo', w = weights, mu = means, sigma = deviations)\n",
        "\n",
        "with basic_model:\n",
        "    # Define sampler\n",
        "    step = pm.HamiltonianMC()\n",
        "\n",
        "    # Simulating N samples\n",
        "    trace = pm.sample(draws=N, return_inferencedata = True, step=step, chains = 1)\n",
        "    \n",
        "end = time.time()\n",
        "print(f\"Time elapsed for Hamiltonian Monte Carlo sampler: {end-start} seconds\")"
      ]
    },
    {
      "cell_type": "code",
      "execution_count": null,
      "metadata": {
        "id": "VTshfuF-S6tv"
      },
      "outputs": [],
      "source": [
        "import arviz as az\n",
        "with basic_model:\n",
        "    az.plot_trace(trace);"
      ]
    },
    {
      "cell_type": "code",
      "execution_count": null,
      "metadata": {
        "id": "tWmIvCQF5lwN"
      },
      "outputs": [],
      "source": [
        "az.ess(trace) #effective_sample_size"
      ]
    },
    {
      "cell_type": "code",
      "execution_count": null,
      "metadata": {
        "id": "MUkwIpPO3Alo"
      },
      "outputs": [],
      "source": [
        "#Tempering method\n",
        "dtype = np.float32\n",
        "N = 100_000\n",
        "\n",
        "target = tfd.MixtureSameFamily(\n",
        "    mixture_distribution=tfd.Categorical(\n",
        "        probs=[0.5, 0.5]),\n",
        "    components_distribution=tfd.Normal(\n",
        "      loc=[-1., 1],       # One for each component.\n",
        "      scale=[np.sqrt(sigma2).astype(dtype), np.sqrt(sigma2).astype(dtype)]))  # And same here.\n",
        "\n",
        "#9 Different \"temperatures\"\n",
        "inverse_temperatures = 0.2**tf.range(9, dtype=dtype)\n",
        "\n",
        "def make_kernel_fn(target_log_prob_fn):   \n",
        "   return tfp.mcmc.RandomWalkMetropolis(\n",
        "    target_log_prob_fn, new_state_fn=None,\n",
        "    name=None) \n",
        "\n",
        "start = time.time()\n",
        "\n",
        "#ReplicaExchangeMC == Parallel Tempering\n",
        "remc = tfp.mcmc.ReplicaExchangeMC(\n",
        "    target_log_prob_fn=target.log_prob,\n",
        "    inverse_temperatures=inverse_temperatures,\n",
        "    make_kernel_fn=make_kernel_fn)\n",
        "\n",
        "samples = tfp.mcmc.sample_chain(\n",
        "    num_results=N,\n",
        "    current_state = 4.0,\n",
        "    kernel=remc,\n",
        "    trace_fn=None,\n",
        "    num_burnin_steps=500)\n",
        "\n",
        "#iterations\n",
        "it1 = []\n",
        "for i in range(0, N):\n",
        "  it1.append(i)\n",
        "\n",
        "end = time.time()\n",
        "\n",
        "print(f\"Time elapsed for Tempering sampler: {end-start} seconds\")\n",
        "\n",
        "plt.subplots(figsize=(20, 5))\n",
        "#plots\n",
        "plt.subplot(1,2,1)\n",
        "sns.distplot(samples, hist = False )\n",
        "\n",
        "plt.subplot(1,2,2)\n",
        "plt.plot(it1, samples)\n",
        "plt.title('Chain')\n",
        "  \n",
        "# Packing all the plots and displaying them\n",
        "plt.tight_layout()\n",
        "plt.show()"
      ]
    },
    {
      "cell_type": "code",
      "execution_count": null,
      "metadata": {
        "id": "tVLJdUPc3PLV"
      },
      "outputs": [],
      "source": [
        "#3rd experiment\n",
        "sigma2 = 0.25"
      ]
    },
    {
      "cell_type": "code",
      "execution_count": null,
      "metadata": {
        "id": "ixhoQFoO3ZU6"
      },
      "outputs": [],
      "source": [
        "#Gibbs Sampler\n",
        "N = 100_000\n",
        "start = time.time()\n",
        "normal1= np.random.normal(-1, np.sqrt(sigma2), int(N/2))\n",
        "normal2 = np.random.normal(1, np.sqrt(sigma2), int(N/2))\n",
        "target = np.concatenate([normal1, normal2])\n",
        "\n",
        "it2 = []\n",
        "for i in range(0, N):\n",
        "  it2.append(i)\n",
        "\n",
        "end = time.time()\n",
        "print(f\"Time elapsed for Gibbs sampler: {end-start} seconds\")\n",
        "\n",
        "#plots\n",
        "plt.subplots(figsize=(20, 5))\n",
        "plt.subplot(1,2,1)\n",
        "sns.distplot(target, hist = False )\n",
        "\n",
        "plt.subplot(1,2,2)\n",
        "plt.plot(it2, target)\n",
        "plt.title('Chain')\n",
        "\n",
        "plt.show()"
      ]
    },
    {
      "cell_type": "code",
      "execution_count": null,
      "metadata": {
        "id": "f7WqMWGlcFC_"
      },
      "outputs": [],
      "source": [
        "#Metropolis - Hastings\n",
        "# Define mixture model\n",
        "N = 100_000\n",
        "\n",
        "weights = np.array([0.5, 0.5])\n",
        "means = np.array([-1, 1])\n",
        "deviations = np.array([np.sqrt(sigma2), np.sqrt(sigma2)])\n",
        "\n",
        "start = time.time()\n",
        "\n",
        "basic_model = pm.Model()\n",
        "\n",
        "with basic_model:\n",
        "  Y_obs = pm.distributions.mixture.NormalMixture('Metropolis - Hastings', w = weights, mu = means, sigma = deviations)\n",
        "\n",
        "with basic_model:\n",
        "    # Define sampler\n",
        "    step = pm.Metropolis()\n",
        "\n",
        "    # Simulating N samples\n",
        "    trace = pm.sample(draws=N,  return_inferencedata = True, step=step, chains = 1)\n",
        "    \n",
        "end = time.time()\n",
        "print(f\"Time elapsed for Metropolis - Hastings sampler: {end-start} seconds\")"
      ]
    },
    {
      "cell_type": "code",
      "execution_count": null,
      "metadata": {
        "id": "8oTxJCHAcJOO"
      },
      "outputs": [],
      "source": [
        "import arviz as az\n",
        "with basic_model:\n",
        "    az.plot_trace(trace);"
      ]
    },
    {
      "cell_type": "code",
      "execution_count": null,
      "metadata": {
        "id": "PkAGNW7b5nWk"
      },
      "outputs": [],
      "source": [
        "az.ess(trace) #effective_sample_size"
      ]
    },
    {
      "cell_type": "code",
      "execution_count": null,
      "metadata": {
        "id": "r9iUqv44cJ7g"
      },
      "outputs": [],
      "source": [
        "#Hamiltonian Monte Carlo method\n",
        "# Define mixture model\n",
        "N = 100_000\n",
        "\n",
        "weights = np.array([0.5, 0.5])\n",
        "means = np.array([-1, 1])\n",
        "deviations = np.array([np.sqrt(sigma2), np.sqrt(sigma2)])\n",
        "\n",
        "start = time.time()\n",
        "\n",
        "basic_model = pm.Model()\n",
        "\n",
        "with basic_model:\n",
        "  Y_obs = pm.distributions.mixture.NormalMixture('Hamiltonian Monte Carlo', w = weights, mu = means, sigma = deviations)\n",
        "\n",
        "with basic_model:\n",
        "    # Define sampler\n",
        "    step = pm.HamiltonianMC()\n",
        "\n",
        "    # Simulating N samples\n",
        "    trace = pm.sample(draws=N, return_inferencedata = True, step=step, chains = 1)\n",
        "    \n",
        "end = time.time()\n",
        "print(f\"Time elapsed for Hamiltonian Monte Carlo sampler: {end-start} seconds\")"
      ]
    },
    {
      "cell_type": "code",
      "execution_count": null,
      "metadata": {
        "id": "vPAiSJ19cS9M"
      },
      "outputs": [],
      "source": [
        "import arviz as az\n",
        "with basic_model:\n",
        "    az.plot_trace(trace);"
      ]
    },
    {
      "cell_type": "code",
      "execution_count": null,
      "metadata": {
        "id": "PXxlRgYL5oJg"
      },
      "outputs": [],
      "source": [
        "az.ess(trace) #effective_sample_size"
      ]
    },
    {
      "cell_type": "code",
      "execution_count": null,
      "metadata": {
        "id": "WbRQqgh83hst"
      },
      "outputs": [],
      "source": [
        "#Tempering method\n",
        "dtype = np.float32\n",
        "N = 100_000\n",
        "\n",
        "target = tfd.MixtureSameFamily(\n",
        "    mixture_distribution=tfd.Categorical(\n",
        "        probs=[0.5, 0.5]),\n",
        "    components_distribution=tfd.Normal(\n",
        "      loc=[-1., 1],       # One for each component.\n",
        "      scale=[np.sqrt(sigma2).astype(dtype), np.sqrt(sigma2).astype(dtype)]))  # And same here.\n",
        "\n",
        "#9 Different \"temperatures\"\n",
        "inverse_temperatures = 0.2**tf.range(9, dtype=dtype)\n",
        "\n",
        "def make_kernel_fn(target_log_prob_fn):   \n",
        "   return tfp.mcmc.RandomWalkMetropolis(\n",
        "    target_log_prob_fn, new_state_fn=None,\n",
        "    name=None) \n",
        "\n",
        "start = time.time()\n",
        "\n",
        "#ReplicaExchangeMC == Parallel Tempering\n",
        "remc = tfp.mcmc.ReplicaExchangeMC(\n",
        "    target_log_prob_fn=target.log_prob,\n",
        "    inverse_temperatures=inverse_temperatures,\n",
        "    make_kernel_fn=make_kernel_fn)\n",
        "\n",
        "samples = tfp.mcmc.sample_chain(\n",
        "    num_results=N,\n",
        "    current_state = 4.0,\n",
        "    kernel=remc,\n",
        "    trace_fn=None,\n",
        "    num_burnin_steps=500)\n",
        "\n",
        "#iterations\n",
        "it1 = []\n",
        "for i in range(0, N):\n",
        "  it1.append(i)\n",
        "\n",
        "end = time.time()\n",
        "\n",
        "print(f\"Time elapsed for Tempering sampler: {end-start} seconds\")\n",
        "\n",
        "plt.subplots(figsize=(20, 5))\n",
        "#plots\n",
        "plt.subplot(1,2,1)\n",
        "sns.distplot(samples, hist = False )\n",
        "\n",
        "plt.subplot(1,2,2)\n",
        "plt.plot(it1, samples)\n",
        "plt.title('Chain')\n",
        "  \n",
        "# Packing all the plots and displaying them\n",
        "plt.tight_layout()\n",
        "plt.show()"
      ]
    }
  ],
  "metadata": {
    "colab": {
      "collapsed_sections": [],
      "name": "Simulations from a mixture model",
      "provenance": [],
      "include_colab_link": true
    },
    "environment": {
      "name": "tf2-gpu.2-3.m74",
      "type": "gcloud",
      "uri": "gcr.io/deeplearning-platform-release/tf2-gpu.2-3:m74"
    },
    "kernelspec": {
      "display_name": "Python 3",
      "language": "python",
      "name": "python3"
    },
    "language_info": {
      "codemirror_mode": {
        "name": "ipython",
        "version": 3
      },
      "file_extension": ".py",
      "mimetype": "text/x-python",
      "name": "python",
      "nbconvert_exporter": "python",
      "pygments_lexer": "ipython3",
      "version": "3.7.10"
    }
  },
  "nbformat": 4,
  "nbformat_minor": 0
}